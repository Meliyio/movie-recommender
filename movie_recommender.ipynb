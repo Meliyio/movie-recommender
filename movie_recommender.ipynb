{
 "cells": [
  {
   "cell_type": "markdown",
   "id": "efc29b83",
   "metadata": {},
   "source": [
    "## Content Based\n",
    "We can recommend movies based on their similarity in features, such as genres and descriptions. This is a good option if we have a single user and want to recommend similar movies to their past favorites."
   ]
  },
  {
   "cell_type": "code",
   "execution_count": 1,
   "id": "a9d324d6",
   "metadata": {},
   "outputs": [],
   "source": [
    "import pandas as pd\n",
    "from sklearn.feature_extraction.text import TfidfVectorizer\n",
    "from sklearn.metrics.pairwise import linear_kernel"
   ]
  },
  {
   "cell_type": "code",
   "execution_count": 2,
   "id": "45775620",
   "metadata": {},
   "outputs": [],
   "source": [
    "movies = pd.read_csv(\"/home/meliyio/ai_projects/movie_recommender/data/movies.csv\")\n",
    "ratings = pd.read_csv(\"/home/meliyio/ai_projects/movie_recommender/data/ratings.csv\")"
   ]
  },
  {
   "cell_type": "code",
   "execution_count": 3,
   "id": "7e9047c3",
   "metadata": {},
   "outputs": [
    {
     "data": {
      "text/html": [
       "<div>\n",
       "<style scoped>\n",
       "    .dataframe tbody tr th:only-of-type {\n",
       "        vertical-align: middle;\n",
       "    }\n",
       "\n",
       "    .dataframe tbody tr th {\n",
       "        vertical-align: top;\n",
       "    }\n",
       "\n",
       "    .dataframe thead th {\n",
       "        text-align: right;\n",
       "    }\n",
       "</style>\n",
       "<table border=\"1\" class=\"dataframe\">\n",
       "  <thead>\n",
       "    <tr style=\"text-align: right;\">\n",
       "      <th></th>\n",
       "      <th>movieId</th>\n",
       "      <th>title</th>\n",
       "      <th>genres</th>\n",
       "    </tr>\n",
       "  </thead>\n",
       "  <tbody>\n",
       "    <tr>\n",
       "      <th>0</th>\n",
       "      <td>1</td>\n",
       "      <td>Toy Story (1995)</td>\n",
       "      <td>Adventure|Animation|Children|Comedy|Fantasy</td>\n",
       "    </tr>\n",
       "    <tr>\n",
       "      <th>1</th>\n",
       "      <td>2</td>\n",
       "      <td>Jumanji (1995)</td>\n",
       "      <td>Adventure|Children|Fantasy</td>\n",
       "    </tr>\n",
       "    <tr>\n",
       "      <th>2</th>\n",
       "      <td>3</td>\n",
       "      <td>Grumpier Old Men (1995)</td>\n",
       "      <td>Comedy|Romance</td>\n",
       "    </tr>\n",
       "    <tr>\n",
       "      <th>3</th>\n",
       "      <td>4</td>\n",
       "      <td>Waiting to Exhale (1995)</td>\n",
       "      <td>Comedy|Drama|Romance</td>\n",
       "    </tr>\n",
       "    <tr>\n",
       "      <th>4</th>\n",
       "      <td>5</td>\n",
       "      <td>Father of the Bride Part II (1995)</td>\n",
       "      <td>Comedy</td>\n",
       "    </tr>\n",
       "  </tbody>\n",
       "</table>\n",
       "</div>"
      ],
      "text/plain": [
       "   movieId                               title  \\\n",
       "0        1                    Toy Story (1995)   \n",
       "1        2                      Jumanji (1995)   \n",
       "2        3             Grumpier Old Men (1995)   \n",
       "3        4            Waiting to Exhale (1995)   \n",
       "4        5  Father of the Bride Part II (1995)   \n",
       "\n",
       "                                        genres  \n",
       "0  Adventure|Animation|Children|Comedy|Fantasy  \n",
       "1                   Adventure|Children|Fantasy  \n",
       "2                               Comedy|Romance  \n",
       "3                         Comedy|Drama|Romance  \n",
       "4                                       Comedy  "
      ]
     },
     "execution_count": 3,
     "metadata": {},
     "output_type": "execute_result"
    }
   ],
   "source": [
    "movies.head()"
   ]
  },
  {
   "cell_type": "code",
   "execution_count": 4,
   "id": "bfc3c63b",
   "metadata": {},
   "outputs": [
    {
     "data": {
      "text/html": [
       "<div>\n",
       "<style scoped>\n",
       "    .dataframe tbody tr th:only-of-type {\n",
       "        vertical-align: middle;\n",
       "    }\n",
       "\n",
       "    .dataframe tbody tr th {\n",
       "        vertical-align: top;\n",
       "    }\n",
       "\n",
       "    .dataframe thead th {\n",
       "        text-align: right;\n",
       "    }\n",
       "</style>\n",
       "<table border=\"1\" class=\"dataframe\">\n",
       "  <thead>\n",
       "    <tr style=\"text-align: right;\">\n",
       "      <th></th>\n",
       "      <th>userId</th>\n",
       "      <th>movieId</th>\n",
       "      <th>rating</th>\n",
       "      <th>timestamp</th>\n",
       "    </tr>\n",
       "  </thead>\n",
       "  <tbody>\n",
       "    <tr>\n",
       "      <th>0</th>\n",
       "      <td>1</td>\n",
       "      <td>296</td>\n",
       "      <td>5.0</td>\n",
       "      <td>1147880044</td>\n",
       "    </tr>\n",
       "    <tr>\n",
       "      <th>1</th>\n",
       "      <td>1</td>\n",
       "      <td>306</td>\n",
       "      <td>3.5</td>\n",
       "      <td>1147868817</td>\n",
       "    </tr>\n",
       "    <tr>\n",
       "      <th>2</th>\n",
       "      <td>1</td>\n",
       "      <td>307</td>\n",
       "      <td>5.0</td>\n",
       "      <td>1147868828</td>\n",
       "    </tr>\n",
       "    <tr>\n",
       "      <th>3</th>\n",
       "      <td>1</td>\n",
       "      <td>665</td>\n",
       "      <td>5.0</td>\n",
       "      <td>1147878820</td>\n",
       "    </tr>\n",
       "    <tr>\n",
       "      <th>4</th>\n",
       "      <td>1</td>\n",
       "      <td>899</td>\n",
       "      <td>3.5</td>\n",
       "      <td>1147868510</td>\n",
       "    </tr>\n",
       "  </tbody>\n",
       "</table>\n",
       "</div>"
      ],
      "text/plain": [
       "   userId  movieId  rating   timestamp\n",
       "0       1      296     5.0  1147880044\n",
       "1       1      306     3.5  1147868817\n",
       "2       1      307     5.0  1147868828\n",
       "3       1      665     5.0  1147878820\n",
       "4       1      899     3.5  1147868510"
      ]
     },
     "execution_count": 4,
     "metadata": {},
     "output_type": "execute_result"
    }
   ],
   "source": [
    "ratings.head()"
   ]
  },
  {
   "cell_type": "code",
   "execution_count": 8,
   "id": "fa5d8e23",
   "metadata": {},
   "outputs": [],
   "source": [
    "tfidf = TfidfVectorizer(stop_words=\"english\")\n",
    "tfidf_matrix = tfidf.fit_transform(movies[\"genres\"])"
   ]
  },
  {
   "cell_type": "code",
   "execution_count": null,
   "id": "7828dfc4",
   "metadata": {},
   "outputs": [],
   "source": [
    "# compute a similarity matrix\n",
    "cosine_sim = linear_kernel(tfidf_matrix, tfidf_matrix)"
   ]
  },
  {
   "cell_type": "code",
   "execution_count": null,
   "id": "42ab91aa",
   "metadata": {},
   "outputs": [],
   "source": [
    "# function to get movie recommendations\n",
    "def get_recommendation(title, cosine_sim=cosine_sim):\n",
    "    # Get the index of the movie that matches the title\n",
    "    idx = movies[movies[\"title\"] == title].index[0]\n",
    "    \n",
    "    #Get pairwise similarity score\n",
    "    sim_score = list(enumarate(cosine_sim[idx]))\n",
    "    # sort by similarity\n",
    "    sim_score = sorted(sim_score, key=lambda x:x[1], reverse=True)\n",
    "    #GEt top ten most similar movies\n",
    "    sim_score = sim_score[1:11]\n",
    "    movie_indeces = [i[0] for i in sim_score]\n",
    "    \n",
    "    # Return the top 10 most similar movies\n",
    "    return movies[\"title\"].iloc[movie_indeces]"
   ]
  },
  {
   "cell_type": "markdown",
   "id": "b2febd82",
   "metadata": {},
   "source": [
    "## Collaborative filtering\n",
    "Collaborative filtering leverages user ratings and works well when we have data on user preferences."
   ]
  },
  {
   "cell_type": "code",
   "execution_count": null,
   "id": "9acd5010",
   "metadata": {},
   "outputs": [],
   "source": [
    "# pip install scikit-suprise\n",
    "from suprise import SVD, Dataset, Reader\n",
    "from suprise.model_selection import train_test_split\n",
    "from suprise import accuracy"
   ]
  },
  {
   "cell_type": "code",
   "execution_count": null,
   "id": "a80dcf2c",
   "metadata": {},
   "outputs": [],
   "source": [
    "reader = Reader(rating_scale=(0.5, 5.0))\n",
    "data = Dataset.load_from_df(ratings[[\"userId\",\"movieId\",\"rating\"]],reader)\n",
    "\n",
    "# split into training and testing\n",
    "trainset, testset = train_test_split(data, test_size=0.25)\n",
    "\n",
    "# use svd algorithm\n",
    "model = SVD()\n",
    "model.fit(trainset)\n",
    "predictions = model.test(testset)"
   ]
  },
  {
   "cell_type": "code",
   "execution_count": null,
   "id": "b8d041cb",
   "metadata": {},
   "outputs": [],
   "source": [
    "# Getting recommendation\n",
    "from collections import defaultdict\n",
    "\n",
    "def get_top_n(preictions, n=10):\n",
    "    # Map the prediction to each user\n",
    "    top_n = defaultdict(list)\n",
    "    for uid, iid, true_r, est, _ in predictions:\n",
    "        top_n[uid].append((iid, est))\n",
    "        \n",
    "    # Sort the predictions for each user and retrieve the top-n items\n",
    "    for uid, user_ratings in top_n.items():\n",
    "        user_ratings.sort(key=lambda x: x[1], reverse=True)\n",
    "        top_n[uid] = user_ratings[:n]\n",
    "    return top_n\n",
    "\n",
    "# Generate prediction for all users\n",
    "top_n = get_top_n(preditions, n=10)"
   ]
  },
  {
   "cell_type": "markdown",
   "id": "ab8502ef",
   "metadata": {},
   "source": [
    "## Hybrid recommender\n",
    "A hybrid recommender combines both collaborative and content-based recommendations. A simple hybrid approach is to take a weighted average of the recommendation scores from both models."
   ]
  },
  {
   "cell_type": "code",
   "execution_count": null,
   "id": "3691e7f4",
   "metadata": {},
   "outputs": [],
   "source": [
    "def hybrid_recommendation(user_id, movie_title, content_weight=0.5, collaborative_weight=0.5):\n",
    "    # Get content-based recommendations\n",
    "    content_recs = get_recommendation(movie_title)\n",
    "    content_scores = {movie: 10 - idx for idx, movie in enumarate(content_recs)}\n",
    "    \n",
    "    # Get collaborative filtering recommendations for the user\n",
    "    collab_recs = dict(top_n[user_id])\n",
    "    \n",
    "    # combine scores\n",
    "    hybrid_scores = {}\n",
    "    for movie, score in content_scores.items():\n",
    "        hybrid[movie] = score * content_weight\n",
    "    for movie, score in collab_recs.items():\n",
    "        hybrid[movie] = hybrid_scores.get(movie, 0) + score * collaborative_weight\n",
    "        \n",
    "    # sort and get top 10 recommendations \n",
    "    hybrid_recommendation = sorted(hybrid_scores.items(), key=lambda x:x[1], reverse=True)\n",
    "    return [movie for movie, score in hybrid_recommendation[:10]]"
   ]
  }
 ],
 "metadata": {
  "kernelspec": {
   "display_name": "Python 3 (ipykernel)",
   "language": "python",
   "name": "python3"
  },
  "language_info": {
   "codemirror_mode": {
    "name": "ipython",
    "version": 3
   },
   "file_extension": ".py",
   "mimetype": "text/x-python",
   "name": "python",
   "nbconvert_exporter": "python",
   "pygments_lexer": "ipython3",
   "version": "3.11.5"
  }
 },
 "nbformat": 4,
 "nbformat_minor": 5
}
